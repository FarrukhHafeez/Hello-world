{
  "cells": [
    {
      "cell_type": "markdown",
      "metadata": {
        "id": "0Dmst8rCf2Mf"
      },
      "source": [
        "## Basic of Python\n",
        "\n",
        "In this video we will discuss about \n",
        "\n",
        "- Various Datatypes in Python\n",
        "- Variable \n",
        "- Variables Assigment\n",
        "- Print Formatting\n"
      ]
    },
    {
      "cell_type": "markdown",
      "metadata": {
        "id": "HOTqQaZCf2Mh"
      },
      "source": [
        "## Various DataTypes in Python\n",
        "\n",
        "### Numbers"
      ]
    },
    {
      "cell_type": "markdown",
      "metadata": {
        "id": "HhiVRv9Jf2Mh"
      },
      "source": [
        "# Python Tutorial\n",
        "\n",
        "## Welcome to Python Tutorial\n",
        "\n",
        "\n",
        "- Datatype "
      ]
    },
    {
      "cell_type": "code",
      "execution_count": 1,
      "metadata": {
        "id": "vS1kXXljf2Mi",
        "outputId": "03c5dae0-1e9f-40bd-a8c7-f2f3e663bc47",
        "colab": {
          "base_uri": "https://localhost:8080/"
        }
      },
      "outputs": [
        {
          "output_type": "execute_result",
          "data": {
            "text/plain": [
              "2"
            ]
          },
          "metadata": {},
          "execution_count": 1
        }
      ],
      "source": [
        "1+1"
      ]
    },
    {
      "cell_type": "code",
      "execution_count": 2,
      "metadata": {
        "id": "3WFnF0bzf2Mj",
        "outputId": "dc207325-1099-4237-fa2f-b6acf2eaeb82",
        "colab": {
          "base_uri": "https://localhost:8080/"
        }
      },
      "outputs": [
        {
          "output_type": "execute_result",
          "data": {
            "text/plain": [
              "20"
            ]
          },
          "metadata": {},
          "execution_count": 2
        }
      ],
      "source": [
        "4*5"
      ]
    },
    {
      "cell_type": "code",
      "execution_count": 3,
      "metadata": {
        "id": "pbF4Qs28f2Mk",
        "outputId": "fffd9606-efe4-445c-df71-bfac47c88141",
        "colab": {
          "base_uri": "https://localhost:8080/"
        }
      },
      "outputs": [
        {
          "output_type": "execute_result",
          "data": {
            "text/plain": [
              "20"
            ]
          },
          "metadata": {},
          "execution_count": 3
        }
      ],
      "source": [
        "2*10"
      ]
    },
    {
      "cell_type": "code",
      "execution_count": 4,
      "metadata": {
        "id": "GHAo-ciIf2Mk",
        "outputId": "3b78faa3-a535-411b-8db0-a1a6670f211b",
        "colab": {
          "base_uri": "https://localhost:8080/"
        }
      },
      "outputs": [
        {
          "output_type": "execute_result",
          "data": {
            "text/plain": [
              "5.0"
            ]
          },
          "metadata": {},
          "execution_count": 4
        }
      ],
      "source": [
        "10/2"
      ]
    },
    {
      "cell_type": "code",
      "execution_count": 5,
      "metadata": {
        "id": "jQRq2NG_f2Mk",
        "outputId": "64bae8c6-194c-4be1-b5d9-aa228c7450df",
        "colab": {
          "base_uri": "https://localhost:8080/"
        }
      },
      "outputs": [
        {
          "output_type": "execute_result",
          "data": {
            "text/plain": [
              "0"
            ]
          },
          "metadata": {},
          "execution_count": 5
        }
      ],
      "source": [
        "10%2"
      ]
    },
    {
      "cell_type": "code",
      "execution_count": null,
      "metadata": {
        "id": "Hujb9u2kf2Ml"
      },
      "outputs": [],
      "source": []
    },
    {
      "cell_type": "code",
      "execution_count": 6,
      "metadata": {
        "id": "7wBSeZ_Kf2Ml",
        "outputId": "bbfdb085-ce54-4606-d46d-9e10c53e30e9",
        "colab": {
          "base_uri": "https://localhost:8080/"
        }
      },
      "outputs": [
        {
          "output_type": "execute_result",
          "data": {
            "text/plain": [
              "100"
            ]
          },
          "metadata": {},
          "execution_count": 6
        }
      ],
      "source": [
        "10**2"
      ]
    },
    {
      "cell_type": "code",
      "execution_count": 7,
      "metadata": {
        "id": "Rs6-1heBf2Ml"
      },
      "outputs": [],
      "source": [
        "##Check the Data types"
      ]
    },
    {
      "cell_type": "code",
      "execution_count": 8,
      "metadata": {
        "id": "F2hPRryWf2Ml",
        "outputId": "9b588aed-9671-4430-83c1-d56af9058814",
        "colab": {
          "base_uri": "https://localhost:8080/"
        }
      },
      "outputs": [
        {
          "output_type": "execute_result",
          "data": {
            "text/plain": [
              "bool"
            ]
          },
          "metadata": {},
          "execution_count": 8
        }
      ],
      "source": [
        "type(True)"
      ]
    },
    {
      "cell_type": "code",
      "execution_count": 9,
      "metadata": {
        "id": "IxDPvOwLf2Mm",
        "outputId": "e8da76d9-fda7-4c4c-e421-09b8925e76a2",
        "colab": {
          "base_uri": "https://localhost:8080/"
        }
      },
      "outputs": [
        {
          "output_type": "execute_result",
          "data": {
            "text/plain": [
              "str"
            ]
          },
          "metadata": {},
          "execution_count": 9
        }
      ],
      "source": [
        "type(\"Hello\")"
      ]
    },
    {
      "cell_type": "code",
      "source": [
        "type(\"25\")"
      ],
      "metadata": {
        "id": "IZUa9axhgKgl",
        "outputId": "2f1c0709-c6ed-45a1-9b29-d12393820bb2",
        "colab": {
          "base_uri": "https://localhost:8080/"
        }
      },
      "execution_count": 11,
      "outputs": [
        {
          "output_type": "execute_result",
          "data": {
            "text/plain": [
              "int"
            ]
          },
          "metadata": {},
          "execution_count": 11
        }
      ]
    },
    {
      "cell_type": "markdown",
      "metadata": {
        "id": "d6LD6UJ-f2Mm"
      },
      "source": [
        "### Strings"
      ]
    },
    {
      "cell_type": "code",
      "execution_count": 12,
      "metadata": {
        "id": "nsi4v6Jjf2Mm",
        "outputId": "05ed2117-4818-4036-971a-aaedbfb828c4",
        "colab": {
          "base_uri": "https://localhost:8080/",
          "height": 35
        }
      },
      "outputs": [
        {
          "output_type": "execute_result",
          "data": {
            "text/plain": [
              "'Hello'"
            ],
            "application/vnd.google.colaboratory.intrinsic+json": {
              "type": "string"
            }
          },
          "metadata": {},
          "execution_count": 12
        }
      ],
      "source": [
        "\"Hello\""
      ]
    },
    {
      "cell_type": "code",
      "execution_count": 13,
      "metadata": {
        "id": "du98IKYdf2Mm",
        "outputId": "2f5abbba-77f9-49a0-c6f3-0f7b26d60dc2",
        "colab": {
          "base_uri": "https://localhost:8080/",
          "height": 35
        }
      },
      "outputs": [
        {
          "output_type": "execute_result",
          "data": {
            "text/plain": [
              "'Krish Naik'"
            ],
            "application/vnd.google.colaboratory.intrinsic+json": {
              "type": "string"
            }
          },
          "metadata": {},
          "execution_count": 13
        }
      ],
      "source": [
        "'Krish Naik'"
      ]
    },
    {
      "cell_type": "code",
      "execution_count": null,
      "metadata": {
        "id": "tH748Z-0f2Mn",
        "outputId": "4caf91f7-a1d8-402c-9820-053696758317"
      },
      "outputs": [
        {
          "data": {
            "text/plain": [
              "str"
            ]
          },
          "execution_count": 5,
          "metadata": {},
          "output_type": "execute_result"
        }
      ],
      "source": [
        "type(\"Krish Naik\")"
      ]
    },
    {
      "cell_type": "markdown",
      "metadata": {
        "id": "VRSiVcCNf2Mn"
      },
      "source": [
        "### Variable Assigment"
      ]
    },
    {
      "cell_type": "code",
      "execution_count": 14,
      "metadata": {
        "id": "JdE4vUAIf2Mn"
      },
      "outputs": [],
      "source": [
        "# syntax\n",
        "# var_name=values\n",
        "\n",
        "a=10"
      ]
    },
    {
      "cell_type": "code",
      "execution_count": 15,
      "metadata": {
        "id": "rBQyXGUQf2Mn",
        "outputId": "6f4bb6d2-fff8-49be-d27a-c2e54a44e623",
        "colab": {
          "base_uri": "https://localhost:8080/"
        }
      },
      "outputs": [
        {
          "output_type": "execute_result",
          "data": {
            "text/plain": [
              "int"
            ]
          },
          "metadata": {},
          "execution_count": 15
        }
      ],
      "source": [
        "type(a)"
      ]
    },
    {
      "cell_type": "code",
      "execution_count": 16,
      "metadata": {
        "id": "m98sKEewf2Mo"
      },
      "outputs": [],
      "source": [
        "a='Krish Naik'"
      ]
    },
    {
      "cell_type": "code",
      "execution_count": 18,
      "metadata": {
        "id": "TSuHvLnHf2Mo",
        "outputId": "bac13cfe-07ab-48b2-ca52-98d049974117",
        "colab": {
          "base_uri": "https://localhost:8080/"
        }
      },
      "outputs": [
        {
          "output_type": "execute_result",
          "data": {
            "text/plain": [
              "str"
            ]
          },
          "metadata": {},
          "execution_count": 18
        }
      ],
      "source": [
        "type(a)"
      ]
    },
    {
      "cell_type": "code",
      "execution_count": 20,
      "metadata": {
        "id": "AtUOBRkrf2Mo"
      },
      "outputs": [],
      "source": [
        "## Mathematical operation with Variable Assigment\n",
        "\n",
        "a=10\n",
        "b=20"
      ]
    },
    {
      "cell_type": "code",
      "execution_count": 21,
      "metadata": {
        "id": "nI2ndoQJf2Mo",
        "outputId": "ab570614-e1c1-4f28-b33c-3e15be726935",
        "colab": {
          "base_uri": "https://localhost:8080/"
        }
      },
      "outputs": [
        {
          "output_type": "stream",
          "name": "stdout",
          "text": [
            "200\n",
            "0.5\n",
            "10\n",
            "200.5\n"
          ]
        }
      ],
      "source": [
        "print(a*b)\n",
        "print(a/b)\n",
        "print(a%b)\n",
        "print((a*b)+(a/b)) ##BODMAS"
      ]
    },
    {
      "cell_type": "code",
      "execution_count": 24,
      "metadata": {
        "id": "EPLtCtgAf2Mo",
        "outputId": "b731212a-0430-4671-d6e3-381a82c0150d",
        "colab": {
          "base_uri": "https://localhost:8080/"
        }
      },
      "outputs": [
        {
          "output_type": "stream",
          "name": "stdout",
          "text": [
            "Hello\n"
          ]
        }
      ],
      "source": [
        "## Various Ways of Printing\n",
        "\n",
        "print ('Hello')"
      ]
    },
    {
      "cell_type": "code",
      "execution_count": null,
      "metadata": {
        "id": "G_iaLLPnf2Mp"
      },
      "outputs": [],
      "source": [
        "first_name='Farrukh'\n",
        "last_name='Naik'"
      ]
    },
    {
      "cell_type": "code",
      "execution_count": 25,
      "metadata": {
        "id": "9zF55HHif2Mp",
        "outputId": "777e5271-5794-4cf6-951b-a96735d646e9",
        "colab": {
          "base_uri": "https://localhost:8080/",
          "height": 165
        }
      },
      "outputs": [
        {
          "output_type": "error",
          "ename": "NameError",
          "evalue": "ignored",
          "traceback": [
            "\u001b[0;31m---------------------------------------------------------------------------\u001b[0m",
            "\u001b[0;31mNameError\u001b[0m                                 Traceback (most recent call last)",
            "\u001b[0;32m<ipython-input-25-a23c68de8aff>\u001b[0m in \u001b[0;36m<cell line: 1>\u001b[0;34m()\u001b[0m\n\u001b[0;32m----> 1\u001b[0;31m \u001b[0mprint\u001b[0m\u001b[0;34m(\u001b[0m\u001b[0;34m\"My first name is {} and last name is {}\"\u001b[0m\u001b[0;34m.\u001b[0m\u001b[0mformat\u001b[0m\u001b[0;34m(\u001b[0m\u001b[0mfirst_name\u001b[0m\u001b[0;34m,\u001b[0m\u001b[0mlast_name\u001b[0m\u001b[0;34m)\u001b[0m\u001b[0;34m)\u001b[0m\u001b[0;34m\u001b[0m\u001b[0;34m\u001b[0m\u001b[0m\n\u001b[0m",
            "\u001b[0;31mNameError\u001b[0m: name 'first_name' is not defined"
          ]
        }
      ],
      "source": [
        "print(\"My first name is {} and last name is {}\".format(first_name,last_name))"
      ]
    },
    {
      "cell_type": "code",
      "execution_count": null,
      "metadata": {
        "id": "swZ46_ROf2Mp",
        "outputId": "aa0fc4f7-3195-4d32-ee50-b3c82e059bad"
      },
      "outputs": [
        {
          "name": "stdout",
          "output_type": "stream",
          "text": [
            "My First name is Krish and last name is Naik\n"
          ]
        }
      ],
      "source": [
        "print(\"My First name is {first} and last name is {last}\".format(last=last_name,first=first_name))"
      ]
    },
    {
      "cell_type": "code",
      "execution_count": null,
      "metadata": {
        "id": "cx8KR3Q3f2Mp",
        "outputId": "d5a33c4b-843b-453b-9285-a2f704abf8f6"
      },
      "outputs": [
        {
          "data": {
            "text/plain": [
              "5"
            ]
          },
          "execution_count": 12,
          "metadata": {},
          "output_type": "execute_result"
        }
      ],
      "source": [
        "len('Krish')"
      ]
    },
    {
      "cell_type": "code",
      "execution_count": null,
      "metadata": {
        "id": "MzdSf5jdf2Mq",
        "outputId": "408cc1b5-dfc0-4a4f-ad53-0f0013ab69e2"
      },
      "outputs": [
        {
          "data": {
            "text/plain": [
              "list"
            ]
          },
          "execution_count": 15,
          "metadata": {},
          "output_type": "execute_result"
        }
      ],
      "source": [
        "type(['1',2,3,4,5])"
      ]
    },
    {
      "cell_type": "code",
      "execution_count": null,
      "metadata": {
        "id": "FSp8R0Q0f2Mq"
      },
      "outputs": [],
      "source": []
    }
  ],
  "metadata": {
    "kernelspec": {
      "display_name": "Python 3",
      "language": "python",
      "name": "python3"
    },
    "language_info": {
      "codemirror_mode": {
        "name": "ipython",
        "version": 3
      },
      "file_extension": ".py",
      "mimetype": "text/x-python",
      "name": "python",
      "nbconvert_exporter": "python",
      "pygments_lexer": "ipython3",
      "version": "3.6.7"
    },
    "colab": {
      "provenance": []
    }
  },
  "nbformat": 4,
  "nbformat_minor": 0
}